{
 "cells": [
  {
   "cell_type": "markdown",
   "metadata": {
    "tags": [
     "pdf-title"
    ]
   },
   "source": [
    "# Softmax exercise\n",
    "\n",
    "*Complete and hand in this completed worksheet (including its outputs and any supporting code outside of the worksheet) with your assignment submission. For more details see the [assignments page](http://vision.stanford.edu/teaching/cs231n/assignments.html) on the course website.*\n",
    "\n",
    "This exercise is analogous to the SVM exercise. You will:\n",
    "\n",
    "- implement a fully-vectorized **loss function** for the Softmax classifier\n",
    "- implement the fully-vectorized expression for its **analytic gradient**\n",
    "- **check your implementation** with numerical gradient\n",
    "- use a validation set to **tune the learning rate and regularization** strength\n",
    "- **optimize** the loss function with **SGD**\n",
    "- **visualize** the final learned weights\n"
   ]
  },
  {
   "cell_type": "code",
   "execution_count": 1,
   "metadata": {
    "tags": [
     "pdf-ignore"
    ]
   },
   "outputs": [],
   "source": [
    "import random\n",
    "import numpy as np\n",
    "from cs231n.data_utils import load_CIFAR10\n",
    "import matplotlib.pyplot as plt\n",
    "\n",
    "%matplotlib inline\n",
    "plt.rcParams['figure.figsize'] = (10.0, 8.0) # set default size of plots\n",
    "plt.rcParams['image.interpolation'] = 'nearest'\n",
    "plt.rcParams['image.cmap'] = 'gray'\n",
    "\n",
    "# for auto-reloading extenrnal modules\n",
    "# see http://stackoverflow.com/questions/1907993/autoreload-of-modules-in-ipython\n",
    "%load_ext autoreload\n",
    "%autoreload 2"
   ]
  },
  {
   "cell_type": "code",
   "execution_count": 2,
   "metadata": {
    "tags": [
     "pdf-ignore"
    ]
   },
   "outputs": [
    {
     "name": "stdout",
     "output_type": "stream",
     "text": [
      "Train data shape:  (49000, 3073)\n",
      "Train labels shape:  (49000,)\n",
      "Validation data shape:  (1000, 3073)\n",
      "Validation labels shape:  (1000,)\n",
      "Test data shape:  (1000, 3073)\n",
      "Test labels shape:  (1000,)\n",
      "dev data shape:  (500, 3073)\n",
      "dev labels shape:  (500,)\n"
     ]
    }
   ],
   "source": [
    "def get_CIFAR10_data(num_training=49000, num_validation=1000, num_test=1000, num_dev=500):\n",
    "    \"\"\"\n",
    "    Load the CIFAR-10 dataset from disk and perform preprocessing to prepare\n",
    "    it for the linear classifier. These are the same steps as we used for the\n",
    "    SVM, but condensed to a single function.  \n",
    "    \"\"\"\n",
    "    # Load the raw CIFAR-10 data\n",
    "    cifar10_dir = 'cs231n/datasets/cifar-10-batches-py'\n",
    "    \n",
    "    # Cleaning up variables to prevent loading data multiple times (which may cause memory issue)\n",
    "    try:\n",
    "       del X_train, y_train\n",
    "       del X_test, y_test\n",
    "       print('Clear previously loaded data.')\n",
    "    except:\n",
    "       pass\n",
    "\n",
    "    X_train, y_train, X_test, y_test = load_CIFAR10(cifar10_dir)\n",
    "    \n",
    "    # subsample the data\n",
    "    mask = list(range(num_training, num_training + num_validation))\n",
    "    X_val = X_train[mask]\n",
    "    y_val = y_train[mask]\n",
    "    mask = list(range(num_training))\n",
    "    X_train = X_train[mask]\n",
    "    y_train = y_train[mask]\n",
    "    mask = list(range(num_test))\n",
    "    X_test = X_test[mask]\n",
    "    y_test = y_test[mask]\n",
    "    mask = np.random.choice(num_training, num_dev, replace=False)\n",
    "    X_dev = X_train[mask]\n",
    "    y_dev = y_train[mask]\n",
    "    \n",
    "    # Preprocessing: reshape the image data into rows\n",
    "    X_train = np.reshape(X_train, (X_train.shape[0], -1))\n",
    "    X_val = np.reshape(X_val, (X_val.shape[0], -1))\n",
    "    X_test = np.reshape(X_test, (X_test.shape[0], -1))\n",
    "    X_dev = np.reshape(X_dev, (X_dev.shape[0], -1))\n",
    "    \n",
    "    # Normalize the data: subtract the mean image\n",
    "    mean_image = np.mean(X_train, axis = 0)\n",
    "    X_train -= mean_image\n",
    "    X_val -= mean_image\n",
    "    X_test -= mean_image\n",
    "    X_dev -= mean_image\n",
    "    \n",
    "    # add bias dimension and transform into columns\n",
    "    X_train = np.hstack([X_train, np.ones((X_train.shape[0], 1))])\n",
    "    X_val = np.hstack([X_val, np.ones((X_val.shape[0], 1))])\n",
    "    X_test = np.hstack([X_test, np.ones((X_test.shape[0], 1))])\n",
    "    X_dev = np.hstack([X_dev, np.ones((X_dev.shape[0], 1))])\n",
    "    \n",
    "    return X_train, y_train, X_val, y_val, X_test, y_test, X_dev, y_dev\n",
    "\n",
    "\n",
    "# Invoke the above function to get our data.\n",
    "X_train, y_train, X_val, y_val, X_test, y_test, X_dev, y_dev = get_CIFAR10_data()\n",
    "print('Train data shape: ', X_train.shape)\n",
    "print('Train labels shape: ', y_train.shape)\n",
    "print('Validation data shape: ', X_val.shape)\n",
    "print('Validation labels shape: ', y_val.shape)\n",
    "print('Test data shape: ', X_test.shape)\n",
    "print('Test labels shape: ', y_test.shape)\n",
    "print('dev data shape: ', X_dev.shape)\n",
    "print('dev labels shape: ', y_dev.shape)"
   ]
  },
  {
   "cell_type": "markdown",
   "metadata": {},
   "source": [
    "## Softmax Classifier\n",
    "\n",
    "Your code for this section will all be written inside **cs231n/classifiers/softmax.py**. \n"
   ]
  },
  {
   "cell_type": "code",
   "execution_count": 9,
   "metadata": {},
   "outputs": [
    {
     "name": "stdout",
     "output_type": "stream",
     "text": [
      "loss: 2.366483\n",
      "sanity check: 2.302585\n"
     ]
    }
   ],
   "source": [
    "# First implement the naive softmax loss function with nested loops.\n",
    "# Open the file cs231n/classifiers/softmax.py and implement the\n",
    "# softmax_loss_naive function.\n",
    "\n",
    "from cs231n.classifiers.softmax import softmax_loss_naive\n",
    "import time\n",
    "\n",
    "# Generate a random softmax weight matrix and use it to compute the loss.\n",
    "W = np.random.randn(3073, 10) * 0.0001\n",
    "loss, grad = softmax_loss_naive(W, X_dev, y_dev, 0.0)\n",
    "\n",
    "# As a rough sanity check, our loss should be something close to -log(0.1).\n",
    "print('loss: %f' % loss)\n",
    "print('sanity check: %f' % (-np.log(0.1)))"
   ]
  },
  {
   "cell_type": "markdown",
   "metadata": {
    "tags": [
     "pdf-inline"
    ]
   },
   "source": [
    "**Inline Question 1**\n",
    "\n",
    "Why do we expect our loss to be close to -log(0.1)? Explain briefly.**\n",
    "\n",
    "$\\color{blue}{\\textit Your Answer:}$ *Fill this in* \n",
    "\n"
   ]
  },
  {
   "cell_type": "code",
   "execution_count": 12,
   "metadata": {},
   "outputs": [
    {
     "name": "stdout",
     "output_type": "stream",
     "text": [
      "numerical: -0.741951 analytic: -0.741951, relative error: 5.353613e-08\n",
      "numerical: 0.852867 analytic: 0.852867, relative error: 2.453352e-08\n",
      "numerical: -1.152299 analytic: -1.152299, relative error: 7.392775e-08\n",
      "numerical: 0.311859 analytic: 0.311859, relative error: 1.049437e-07\n",
      "numerical: 2.961569 analytic: 2.961569, relative error: 2.570453e-08\n",
      "numerical: 0.311980 analytic: 0.311981, relative error: 6.336537e-08\n",
      "numerical: 2.361253 analytic: 2.361253, relative error: 3.134503e-08\n",
      "numerical: -1.791067 analytic: -1.791067, relative error: 1.409616e-08\n",
      "numerical: -1.386278 analytic: -1.386279, relative error: 6.620563e-09\n",
      "numerical: 0.266073 analytic: 0.266073, relative error: 5.286260e-08\n",
      "numerical: 2.560686 analytic: 2.560686, relative error: 1.186749e-08\n",
      "numerical: 0.394118 analytic: 0.394118, relative error: 4.570530e-08\n",
      "numerical: 0.435804 analytic: 0.435804, relative error: 1.036279e-07\n",
      "numerical: -1.092856 analytic: -1.092856, relative error: 2.294453e-08\n",
      "numerical: 2.391145 analytic: 2.391145, relative error: 2.243463e-08\n",
      "numerical: 0.257502 analytic: 0.257502, relative error: 1.547834e-09\n",
      "numerical: 1.208840 analytic: 1.208839, relative error: 3.481239e-08\n",
      "numerical: 0.018800 analytic: 0.018800, relative error: 1.462868e-06\n",
      "numerical: -0.305674 analytic: -0.305674, relative error: 7.249293e-08\n",
      "numerical: 1.212289 analytic: 1.212289, relative error: 6.593645e-09\n"
     ]
    }
   ],
   "source": [
    "# Complete the implementation of softmax_loss_naive and implement a (naive)\n",
    "# version of the gradient that uses nested loops.\n",
    "loss, grad = softmax_loss_naive(W, X_dev, y_dev, 0.0)\n",
    "\n",
    "# As we did for the SVM, use numeric gradient checking as a debugging tool.\n",
    "# The numeric gradient should be close to the analytic gradient.\n",
    "from cs231n.gradient_check import grad_check_sparse\n",
    "f = lambda w: softmax_loss_naive(w, X_dev, y_dev, 0.0)[0]\n",
    "grad_numerical = grad_check_sparse(f, W, grad, 10)\n",
    "\n",
    "# similar to SVM case, do another gradient check with regularization\n",
    "loss, grad = softmax_loss_naive(W, X_dev, y_dev, 5e1)\n",
    "f = lambda w: softmax_loss_naive(w, X_dev, y_dev, 5e1)[0]\n",
    "grad_numerical = grad_check_sparse(f, W, grad, 10)"
   ]
  },
  {
   "cell_type": "code",
   "execution_count": 39,
   "metadata": {},
   "outputs": [
    {
     "name": "stdout",
     "output_type": "stream",
     "text": [
      "naive loss: 2.366483e+00 computed in 0.196179s\n",
      "vectorized loss: 2.366483e+00 computed in 0.008512s\n",
      "Loss difference: 0.000000\n",
      "Gradient difference: 0.000000\n"
     ]
    }
   ],
   "source": [
    "# Now that we have a naive implementation of the softmax loss function and its gradient,\n",
    "# implement a vectorized version in softmax_loss_vectorized.\n",
    "# The two versions should compute the same results, but the vectorized version should be\n",
    "# much faster.\n",
    "tic = time.time()\n",
    "loss_naive, grad_naive = softmax_loss_naive(W, X_dev, y_dev, 0.000005)\n",
    "toc = time.time()\n",
    "print('naive loss: %e computed in %fs' % (loss_naive, toc - tic))\n",
    "\n",
    "from cs231n.classifiers.softmax import softmax_loss_vectorized\n",
    "tic = time.time()\n",
    "loss_vectorized, grad_vectorized = softmax_loss_vectorized(W, X_dev, y_dev, 0.000005)\n",
    "toc = time.time()\n",
    "print('vectorized loss: %e computed in %fs' % (loss_vectorized, toc - tic))\n",
    "\n",
    "# As we did for the SVM, we use the Frobenius norm to compare the two versions\n",
    "# of the gradient.\n",
    "grad_difference = np.linalg.norm(grad_naive - grad_vectorized, ord='fro')\n",
    "print('Loss difference: %f' % np.abs(loss_naive - loss_vectorized))\n",
    "print('Gradient difference: %f' % grad_difference)"
   ]
  },
  {
   "cell_type": "code",
   "execution_count": 70,
   "metadata": {
    "scrolled": false,
    "tags": [
     "code"
    ]
   },
   "outputs": [
    {
     "name": "stdout",
     "output_type": "stream",
     "text": [
      "lr 3.000000e-04 reg 4.000000e+02 train accuracy: 0.243592 val accuracy: 0.258000\n",
      "lr 3.000000e-04 reg 4.111111e+02 train accuracy: 0.220816 val accuracy: 0.222000\n",
      "lr 3.000000e-04 reg 4.222222e+02 train accuracy: 0.240429 val accuracy: 0.246000\n",
      "lr 3.000000e-04 reg 4.333333e+02 train accuracy: 0.232408 val accuracy: 0.241000\n",
      "lr 3.000000e-04 reg 4.444444e+02 train accuracy: 0.238816 val accuracy: 0.240000\n",
      "lr 3.000000e-04 reg 4.555556e+02 train accuracy: 0.242816 val accuracy: 0.254000\n",
      "lr 3.000000e-04 reg 4.666667e+02 train accuracy: 0.231204 val accuracy: 0.253000\n",
      "lr 3.000000e-04 reg 4.777778e+02 train accuracy: 0.228816 val accuracy: 0.216000\n",
      "lr 3.000000e-04 reg 4.888889e+02 train accuracy: 0.240143 val accuracy: 0.251000\n",
      "lr 3.000000e-04 reg 5.000000e+02 train accuracy: 0.235224 val accuracy: 0.235000\n",
      "lr 3.222222e-04 reg 4.000000e+02 train accuracy: 0.236306 val accuracy: 0.249000\n",
      "lr 3.222222e-04 reg 4.111111e+02 train accuracy: 0.221204 val accuracy: 0.227000\n",
      "lr 3.222222e-04 reg 4.222222e+02 train accuracy: 0.232286 val accuracy: 0.256000\n",
      "lr 3.222222e-04 reg 4.333333e+02 train accuracy: 0.241755 val accuracy: 0.252000\n",
      "lr 3.222222e-04 reg 4.444444e+02 train accuracy: 0.231551 val accuracy: 0.240000\n",
      "lr 3.222222e-04 reg 4.555556e+02 train accuracy: 0.238633 val accuracy: 0.243000\n",
      "lr 3.222222e-04 reg 4.666667e+02 train accuracy: 0.244224 val accuracy: 0.268000\n",
      "lr 3.222222e-04 reg 4.777778e+02 train accuracy: 0.233633 val accuracy: 0.234000\n",
      "lr 3.222222e-04 reg 4.888889e+02 train accuracy: 0.236408 val accuracy: 0.258000\n",
      "lr 3.222222e-04 reg 5.000000e+02 train accuracy: 0.236143 val accuracy: 0.260000\n",
      "lr 3.444444e-04 reg 4.000000e+02 train accuracy: 0.236245 val accuracy: 0.247000\n",
      "lr 3.444444e-04 reg 4.111111e+02 train accuracy: 0.230571 val accuracy: 0.246000\n",
      "lr 3.444444e-04 reg 4.222222e+02 train accuracy: 0.225755 val accuracy: 0.241000\n",
      "lr 3.444444e-04 reg 4.333333e+02 train accuracy: 0.224796 val accuracy: 0.234000\n",
      "lr 3.444444e-04 reg 4.444444e+02 train accuracy: 0.245776 val accuracy: 0.241000\n",
      "lr 3.444444e-04 reg 4.555556e+02 train accuracy: 0.238980 val accuracy: 0.246000\n",
      "lr 3.444444e-04 reg 4.666667e+02 train accuracy: 0.243735 val accuracy: 0.264000\n",
      "lr 3.444444e-04 reg 4.777778e+02 train accuracy: 0.221245 val accuracy: 0.223000\n",
      "lr 3.444444e-04 reg 4.888889e+02 train accuracy: 0.238429 val accuracy: 0.261000\n",
      "lr 3.444444e-04 reg 5.000000e+02 train accuracy: 0.224265 val accuracy: 0.229000\n",
      "lr 3.666667e-04 reg 4.000000e+02 train accuracy: 0.229490 val accuracy: 0.225000\n",
      "lr 3.666667e-04 reg 4.111111e+02 train accuracy: 0.235653 val accuracy: 0.249000\n",
      "lr 3.666667e-04 reg 4.222222e+02 train accuracy: 0.247714 val accuracy: 0.262000\n",
      "lr 3.666667e-04 reg 4.333333e+02 train accuracy: 0.228347 val accuracy: 0.235000\n",
      "lr 3.666667e-04 reg 4.444444e+02 train accuracy: 0.236245 val accuracy: 0.252000\n",
      "lr 3.666667e-04 reg 4.555556e+02 train accuracy: 0.239347 val accuracy: 0.255000\n",
      "lr 3.666667e-04 reg 4.666667e+02 train accuracy: 0.231204 val accuracy: 0.251000\n",
      "lr 3.666667e-04 reg 4.777778e+02 train accuracy: 0.252816 val accuracy: 0.264000\n",
      "lr 3.666667e-04 reg 4.888889e+02 train accuracy: 0.230122 val accuracy: 0.237000\n",
      "lr 3.666667e-04 reg 5.000000e+02 train accuracy: 0.238265 val accuracy: 0.229000\n",
      "lr 3.888889e-04 reg 4.000000e+02 train accuracy: 0.220184 val accuracy: 0.238000\n",
      "lr 3.888889e-04 reg 4.111111e+02 train accuracy: 0.222694 val accuracy: 0.220000\n",
      "lr 3.888889e-04 reg 4.222222e+02 train accuracy: 0.242429 val accuracy: 0.248000\n",
      "lr 3.888889e-04 reg 4.333333e+02 train accuracy: 0.234898 val accuracy: 0.243000\n",
      "lr 3.888889e-04 reg 4.444444e+02 train accuracy: 0.241224 val accuracy: 0.257000\n",
      "lr 3.888889e-04 reg 4.555556e+02 train accuracy: 0.244735 val accuracy: 0.255000\n",
      "lr 3.888889e-04 reg 4.666667e+02 train accuracy: 0.216490 val accuracy: 0.232000\n",
      "lr 3.888889e-04 reg 4.777778e+02 train accuracy: 0.237714 val accuracy: 0.258000\n",
      "lr 3.888889e-04 reg 4.888889e+02 train accuracy: 0.231776 val accuracy: 0.254000\n",
      "lr 3.888889e-04 reg 5.000000e+02 train accuracy: 0.235347 val accuracy: 0.268000\n",
      "lr 4.111111e-04 reg 4.000000e+02 train accuracy: 0.244245 val accuracy: 0.263000\n",
      "lr 4.111111e-04 reg 4.111111e+02 train accuracy: 0.235735 val accuracy: 0.228000\n",
      "lr 4.111111e-04 reg 4.222222e+02 train accuracy: 0.233347 val accuracy: 0.242000\n",
      "lr 4.111111e-04 reg 4.333333e+02 train accuracy: 0.238102 val accuracy: 0.244000\n",
      "lr 4.111111e-04 reg 4.444444e+02 train accuracy: 0.216633 val accuracy: 0.230000\n",
      "lr 4.111111e-04 reg 4.555556e+02 train accuracy: 0.228633 val accuracy: 0.246000\n",
      "lr 4.111111e-04 reg 4.666667e+02 train accuracy: 0.223816 val accuracy: 0.249000\n",
      "lr 4.111111e-04 reg 4.777778e+02 train accuracy: 0.232878 val accuracy: 0.235000\n",
      "lr 4.111111e-04 reg 4.888889e+02 train accuracy: 0.235429 val accuracy: 0.258000\n",
      "lr 4.111111e-04 reg 5.000000e+02 train accuracy: 0.236469 val accuracy: 0.256000\n",
      "lr 4.333333e-04 reg 4.000000e+02 train accuracy: 0.235918 val accuracy: 0.245000\n",
      "lr 4.333333e-04 reg 4.111111e+02 train accuracy: 0.222163 val accuracy: 0.242000\n",
      "lr 4.333333e-04 reg 4.222222e+02 train accuracy: 0.236469 val accuracy: 0.238000\n",
      "lr 4.333333e-04 reg 4.333333e+02 train accuracy: 0.248143 val accuracy: 0.266000\n",
      "lr 4.333333e-04 reg 4.444444e+02 train accuracy: 0.234612 val accuracy: 0.241000\n",
      "lr 4.333333e-04 reg 4.555556e+02 train accuracy: 0.231082 val accuracy: 0.243000\n",
      "lr 4.333333e-04 reg 4.666667e+02 train accuracy: 0.218898 val accuracy: 0.231000\n",
      "lr 4.333333e-04 reg 4.777778e+02 train accuracy: 0.241469 val accuracy: 0.250000\n",
      "lr 4.333333e-04 reg 4.888889e+02 train accuracy: 0.238265 val accuracy: 0.263000\n",
      "lr 4.333333e-04 reg 5.000000e+02 train accuracy: 0.233000 val accuracy: 0.230000\n",
      "lr 4.555556e-04 reg 4.000000e+02 train accuracy: 0.231306 val accuracy: 0.247000\n",
      "lr 4.555556e-04 reg 4.111111e+02 train accuracy: 0.234469 val accuracy: 0.235000\n",
      "lr 4.555556e-04 reg 4.222222e+02 train accuracy: 0.225388 val accuracy: 0.235000\n",
      "lr 4.555556e-04 reg 4.333333e+02 train accuracy: 0.229653 val accuracy: 0.229000\n",
      "lr 4.555556e-04 reg 4.444444e+02 train accuracy: 0.231592 val accuracy: 0.244000\n",
      "lr 4.555556e-04 reg 4.555556e+02 train accuracy: 0.222816 val accuracy: 0.241000\n",
      "lr 4.555556e-04 reg 4.666667e+02 train accuracy: 0.233878 val accuracy: 0.237000\n",
      "lr 4.555556e-04 reg 4.777778e+02 train accuracy: 0.230163 val accuracy: 0.236000\n",
      "lr 4.555556e-04 reg 4.888889e+02 train accuracy: 0.232449 val accuracy: 0.248000\n",
      "lr 4.555556e-04 reg 5.000000e+02 train accuracy: 0.221163 val accuracy: 0.236000\n",
      "lr 4.777778e-04 reg 4.000000e+02 train accuracy: 0.238061 val accuracy: 0.252000\n",
      "lr 4.777778e-04 reg 4.111111e+02 train accuracy: 0.231816 val accuracy: 0.252000\n",
      "lr 4.777778e-04 reg 4.222222e+02 train accuracy: 0.236408 val accuracy: 0.238000\n",
      "lr 4.777778e-04 reg 4.333333e+02 train accuracy: 0.234327 val accuracy: 0.268000\n",
      "lr 4.777778e-04 reg 4.444444e+02 train accuracy: 0.228490 val accuracy: 0.256000\n",
      "lr 4.777778e-04 reg 4.555556e+02 train accuracy: 0.230327 val accuracy: 0.236000\n",
      "lr 4.777778e-04 reg 4.666667e+02 train accuracy: 0.228163 val accuracy: 0.229000\n",
      "lr 4.777778e-04 reg 4.777778e+02 train accuracy: 0.225367 val accuracy: 0.231000\n",
      "lr 4.777778e-04 reg 4.888889e+02 train accuracy: 0.229102 val accuracy: 0.248000\n",
      "lr 4.777778e-04 reg 5.000000e+02 train accuracy: 0.220755 val accuracy: 0.241000\n",
      "lr 5.000000e-04 reg 4.000000e+02 train accuracy: 0.244347 val accuracy: 0.246000\n",
      "lr 5.000000e-04 reg 4.111111e+02 train accuracy: 0.247959 val accuracy: 0.255000\n",
      "lr 5.000000e-04 reg 4.222222e+02 train accuracy: 0.220837 val accuracy: 0.246000\n",
      "lr 5.000000e-04 reg 4.333333e+02 train accuracy: 0.235347 val accuracy: 0.225000\n",
      "lr 5.000000e-04 reg 4.444444e+02 train accuracy: 0.233143 val accuracy: 0.253000\n",
      "lr 5.000000e-04 reg 4.555556e+02 train accuracy: 0.220735 val accuracy: 0.237000\n",
      "lr 5.000000e-04 reg 4.666667e+02 train accuracy: 0.226102 val accuracy: 0.252000\n",
      "lr 5.000000e-04 reg 4.777778e+02 train accuracy: 0.221469 val accuracy: 0.230000\n",
      "lr 5.000000e-04 reg 4.888889e+02 train accuracy: 0.222143 val accuracy: 0.248000\n",
      "lr 5.000000e-04 reg 5.000000e+02 train accuracy: 0.243837 val accuracy: 0.261000\n",
      "best validation accuracy achieved during cross-validation: 0.268000\n"
     ]
    }
   ],
   "source": [
    "# Use the validation set to tune hyperparameters (regularization strength and\n",
    "# learning rate). You should experiment with different ranges for the learning\n",
    "# rates and regularization strengths; if you are careful you should be able to\n",
    "# get a classification accuracy of over 0.35 on the validation set.\n",
    "from cs231n.classifiers import Softmax\n",
    "results = {}\n",
    "best_val = -1\n",
    "best_softmax = None\n",
    "learning_rates = np.linspace(3e-4, 5e-4,num=10)\n",
    "regularization_strengths = np.linspace(4e2, 5e2, num=10)\n",
    "\n",
    "################################################################################\n",
    "# TODO:                                                                        #\n",
    "# Use the validation set to set the learning rate and regularization strength. #\n",
    "# This should be identical to the validation that you did for the SVM; save    #\n",
    "# the best trained softmax classifer in best_softmax.                          #\n",
    "################################################################################\n",
    "# *****START OF YOUR CODE (DO NOT DELETE/MODIFY THIS LINE)*****\n",
    "\n",
    "for lr in learning_rates:\n",
    "    for rs in regularization_strengths:\n",
    "        svm = Softmax()\n",
    "        loss_hist = svm.train(X_train, y_train, learning_rate=lr, reg=rs,\n",
    "                      num_iters=500, verbose=False)\n",
    "\n",
    "        y_train_pred = svm.predict(X_train)\n",
    "        train_acc = np.mean(y_train == y_train_pred)\n",
    "        #print('training accuracy: %f' % train_acc, )\n",
    "        \n",
    "        y_val_pred = svm.predict(X_val)\n",
    "        val_acc = np.mean(y_val == y_val_pred)\n",
    "        results.update({(lr,rs):(train_acc,val_acc)})\n",
    "        \n",
    "        if val_acc > best_val:\n",
    "            best_val = val_acc\n",
    "            best_softmax = svm\n",
    "\n",
    "# *****END OF YOUR CODE (DO NOT DELETE/MODIFY THIS LINE)*****\n",
    "    \n",
    "# Print out results.\n",
    "for lr, reg in sorted(results):\n",
    "    train_accuracy, val_accuracy = results[(lr, reg)]\n",
    "    print('lr %e reg %e train accuracy: %f val accuracy: %f' % (\n",
    "                lr, reg, train_accuracy, val_accuracy))\n",
    "    \n",
    "print('best validation accuracy achieved during cross-validation: %f' % best_val)"
   ]
  },
  {
   "cell_type": "code",
   "execution_count": 68,
   "metadata": {},
   "outputs": [
    {
     "name": "stdout",
     "output_type": "stream",
     "text": [
      "softmax on raw pixels final test set accuracy: 0.232000\n"
     ]
    }
   ],
   "source": [
    "# evaluate on test set\n",
    "# Evaluate the best softmax on test set\n",
    "y_test_pred = best_softmax.predict(X_test)\n",
    "test_accuracy = np.mean(y_test == y_test_pred)\n",
    "print('softmax on raw pixels final test set accuracy: %f' % (test_accuracy, ))"
   ]
  },
  {
   "cell_type": "markdown",
   "metadata": {
    "tags": [
     "pdf-inline"
    ]
   },
   "source": [
    "**Inline Question 2** - *True or False*\n",
    "\n",
    "Suppose the overall training loss is defined as the sum of the per-datapoint loss over all training examples. It is possible to add a new datapoint to a training set that would leave the SVM loss unchanged, but this is not the case with the Softmax classifier loss.\n",
    "\n",
    "$\\color{blue}{\\textit Your Answer:}$\n",
    "\n",
    "\n",
    "$\\color{blue}{\\textit Your Explanation:}$\n",
    "\n"
   ]
  },
  {
   "cell_type": "code",
   "execution_count": 69,
   "metadata": {},
   "outputs": [
    {
     "data": {
      "image/png": "[encoded data removed]",
      "text/plain": [
       "<Figure size 432x288 with 10 Axes>"
      ]
     },
     "metadata": {
      "needs_background": "light"
     },
     "output_type": "display_data"
    }
   ],
   "source": [
    "# Visualize the learned weights for each class\n",
    "w = best_softmax.W[:-1,:] # strip out the bias\n",
    "w = w.reshape(32, 32, 3, 10)\n",
    "\n",
    "w_min, w_max = np.min(w), np.max(w)\n",
    "\n",
    "classes = ['plane', 'car', 'bird', 'cat', 'deer', 'dog', 'frog', 'horse', 'ship', 'truck']\n",
    "for i in range(10):\n",
    "    plt.subplot(2, 5, i + 1)\n",
    "    \n",
    "    # Rescale the weights to be between 0 and 255\n",
    "    wimg = 255.0 * (w[:, :, :, i].squeeze() - w_min) / (w_max - w_min)\n",
    "    plt.imshow(wimg.astype('uint8'))\n",
    "    plt.axis('off')\n",
    "    plt.title(classes[i])"
   ]
  },
  {
   "cell_type": "code",
   "execution_count": null,
   "metadata": {},
   "outputs": [],
   "source": []
  }
 ],
 "metadata": {
  "kernelspec": {
   "display_name": "Python 3",
   "language": "python",
   "name": "python3"
  },
  "language_info": {
   "codemirror_mode": {
    "name": "ipython",
    "version": 3
   },
   "file_extension": ".py",
   "mimetype": "text/x-python",
   "name": "python",
   "nbconvert_exporter": "python",
   "pygments_lexer": "ipython3",
   "version": "3.7.1"
  }
 },
 "nbformat": 4,
 "nbformat_minor": 1
}
